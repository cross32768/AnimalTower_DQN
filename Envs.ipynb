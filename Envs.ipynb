{
 "cells": [
  {
   "cell_type": "code",
   "execution_count": 1,
   "metadata": {
    "collapsed": true
   },
   "outputs": [],
   "source": [
    "import numpy as np\n",
    "import subprocess\n",
    "import win32gui\n",
    "import time\n",
    "import pyautogui"
   ]
  },
  {
   "cell_type": "code",
   "execution_count": 13,
   "metadata": {},
   "outputs": [
    {
     "ename": "IndentationError",
     "evalue": "expected an indented block (<ipython-input-13-6df7a58f6011>, line 52)",
     "output_type": "error",
     "traceback": [
      "\u001b[1;36m  File \u001b[1;32m\"<ipython-input-13-6df7a58f6011>\"\u001b[1;36m, line \u001b[1;32m52\u001b[0m\n\u001b[1;33m    def step(self, action):\u001b[0m\n\u001b[1;37m      ^\u001b[0m\n\u001b[1;31mIndentationError\u001b[0m\u001b[1;31m:\u001b[0m expected an indented block\n"
     ]
    }
   ],
   "source": [
    "# ”どうぶつタワー”で強化学習を実行するためのラッパークラス。\n",
    "# openAI gymに似たようなインタフェースで動かせるが、そこまで真面目に合わせてないので細部は違うので注意。\n",
    "class AnimalTower:\n",
    "    # 引数n_digitize_xでx方向の離散化の細かさ（スカラ値）を受け取り、各種変数の初期化及びゲームの起動を行う。\n",
    "    # ゲームの起動部分は自分の環境でしか動かないので注意\n",
    "    def __init__(self, n_digitize_x=19):\n",
    "        # 回転方向の行動の離散化数\n",
    "        self.n_digitize_theta = 12\n",
    "        # 横軸方向の行動の離散化数\n",
    "        self.n_digitize_x = n_digitize_x\n",
    "        # 離散化済みの行動の総数(openAI gymのインタフェースと似せてるけど.nと_nが違うので注意)\n",
    "        self.action_space_n = self.n_digitize_theta * self.n_digitize_x\n",
    "        \n",
    "        # 離散化済みの状態の形状を表すタプル（openAI gymのインタフェースと似せてるけど、.shapeと_shapeが違うので注意）\n",
    "        self.observation_space_shape = ()\n",
    "        \n",
    "        # クリックする実際のx座標の指定\n",
    "        self.left_x_limit = 25 # クリックして意味がありそうな左の端\n",
    "        self.right_y_limit = 285 # クリックして意味がありそうな右の端\n",
    "        # 実際クリックする可能性のあるポイントの配列\n",
    "        self.x_positions = np.linspace(self.left_x_limit, self.right_x_limit, self.n_digitize_x)\n",
    "        self.y_positions = 300 # y座標はどこでもいいので固定値\n",
    "        \n",
    "        # 各種ボタンの座標。最初に画像を元に取得して、以下はその値を固定値として用いる\n",
    "        # 取り敢えずNoneを入れておく\n",
    "        self.StartButtonLocation = None # スタートボタン \n",
    "        self.RotateButtonLocation = None # 回転ボタン \n",
    "        self.ResetButtonLocation = None # スタート画面に戻るボタン\n",
    "        self.ReturnButtonLocation = None # BlueStackの方の戻るボタン\n",
    "    \n",
    "        \n",
    "        # どうぶつタワーの起動（うちの環境でしか動かないので注意）\n",
    "        # BlueStackの設定で常に最前面に来るようにしておくこと\n",
    "        BlueStack = subprocess.Popen(\"C:\\Program Files\\BlueStacks\\HD-RunApp.exe\") # BlueStackを起動\n",
    "        time.sleep(3) # ウィンドウが起動しきって先頭に来るまで待つ\n",
    "        windowID = win32gui.GetForegroundWindow() # 最前面のウィンドウのIDを取得\n",
    "        win32gui.MoveWindow(windowID, 0, 0, 50, 50, True) # 左上に移動しつつ限界までウィンドウを小さくする((50, 50)には実際ならない)\n",
    "        \n",
    "        # BlueStackのトップ画面に”どうぶつタワー”があるようにしておき、それが出るまで待つ\n",
    "        # 'AnimalTowericon.png'は”どうぶつタワー”のアイコンの画像（解像度は一致させること）\n",
    "        while pyautogui.locateCenterOnScreen('AnimalTowericon.png') is None:\n",
    "            time.sleep(1)\n",
    "            \n",
    "        x, y = pyautogui.locateCenterOnScreen('AnimalTowericon.png') # ”どうぶつタワー”のアイコンの座標を取得\n",
    "        pyautogui.click(x, y) # クリックして\"どうぶつタワー\"を起動\n",
    "        time.sleep(3) # 画面が切り替わるまで待つ\n",
    "        windowID = win32gui.GetForegroundWindow() # 最前面のウィンドウのIDを取得\n",
    "        win32gui.MoveWindow(windowID, 0, 0, 50, 50, True) # 左上に移動しつつ限界までウィンドウを(ry\n",
    "        \n",
    "    def reset(self):\n",
    "        \n",
    "    def step(self, action):\n",
    "        \n",
    "    def _get_observation(self):\n",
    "        \n",
    "        \n",
    "    def _check_done(self, observation):"
   ]
  },
  {
   "cell_type": "code",
   "execution_count": 15,
   "metadata": {},
   "outputs": [],
   "source": [
    "# どうぶつタワーの起動（うちの環境でしか動かないので注意）\n",
    "# BlueStackの設定で常に最前面に来るようにしておくこと\n",
    "BlueStack = subprocess.Popen(\"C:\\Program Files\\BlueStacks\\HD-RunApp.exe\") # BlueStackを起動\n",
    "time.sleep(3) # ウィンドウが起動しきって先頭に来るまで待つ\n",
    "windowID = win32gui.GetForegroundWindow() # 最前面のウィンドウのIDを取得\n",
    "win32gui.MoveWindow(windowID, 0, 0, 50, 50, True) # 左上に移動しつつ限界までウィンドウを小さくする((50, 50)には実際ならない)\n",
    "        \n",
    "# BlueStackのトップ画面に”どうぶつタワー”があるようにしておき、それが出るまで待つ\n",
    "while pyautogui.locateCenterOnScreen('AnimalTowericon.png') is None:\n",
    "    time.sleep(1)\n",
    "            \n",
    "x, y = pyautogui.locateCenterOnScreen('AnimalTowericon.png') # ”どうぶつタワー”のアイコンの座標を取得\n",
    "pyautogui.click(x, y) # クリックして\"どうぶつタワー\"を起動\n",
    "time.sleep(3) # 画面が切り替わるまで待つ\n",
    "windowID = win32gui.GetForegroundWindow() # 最前面のウィンドウのIDを取得\n",
    "win32gui.MoveWindow(windowID, 0, 0, 50, 50, True) # 左上に移動しつつ限界までウィンドウを(ry"
   ]
  },
  {
   "cell_type": "code",
   "execution_count": 20,
   "metadata": {
    "scrolled": true
   },
   "outputs": [
    {
     "name": "stdout",
     "output_type": "stream",
     "text": [
      "<PIL.Image.Image image mode=RGB size=295x525 at 0x184BE1FC710>\n"
     ]
    },
    {
     "data": {
      "image/png": "[encoded data removed]",
      "text/plain": [
       "<matplotlib.figure.Figure at 0x184be02ed68>"
      ]
     },
     "metadata": {},
     "output_type": "display_data"
    }
   ],
   "source": [
    "import matplotlib.pyplot as plt\n",
    "fullscreenshot = pyautogui.screenshot(region = (5, 50, 295, 525))\n",
    "print(fullscreenshot)\n",
    "plt.imshow(fullscreenshot)\n",
    "plt.show()"
   ]
  },
  {
   "cell_type": "code",
   "execution_count": 6,
   "metadata": {},
   "outputs": [
    {
     "name": "stdout",
     "output_type": "stream",
     "text": [
      "True\n"
     ]
    }
   ],
   "source": [
    "print(pyautogui.locateCenterOnScreen('Reseticon.png') is None)"
   ]
  },
  {
   "cell_type": "code",
   "execution_count": 52,
   "metadata": {},
   "outputs": [
    {
     "ename": "TypeError",
     "evalue": "'NoneType' object is not iterable",
     "output_type": "error",
     "traceback": [
      "\u001b[1;31m---------------------------------------------------------------------------\u001b[0m",
      "\u001b[1;31mTypeError\u001b[0m                                 Traceback (most recent call last)",
      "\u001b[1;32m<ipython-input-52-96adfc25a259>\u001b[0m in \u001b[0;36m<module>\u001b[1;34m()\u001b[0m\n\u001b[1;32m----> 1\u001b[1;33m \u001b[0mx\u001b[0m\u001b[1;33m,\u001b[0m \u001b[0my\u001b[0m \u001b[1;33m=\u001b[0m \u001b[0mpyautogui\u001b[0m\u001b[1;33m.\u001b[0m\u001b[0mlocateCenterOnScreen\u001b[0m\u001b[1;33m(\u001b[0m\u001b[1;34m'Starticon.png'\u001b[0m\u001b[1;33m)\u001b[0m\u001b[1;33m\u001b[0m\u001b[0m\n\u001b[0m\u001b[0;32m      2\u001b[0m \u001b[0mpyautogui\u001b[0m\u001b[1;33m.\u001b[0m\u001b[0mclick\u001b[0m\u001b[1;33m(\u001b[0m\u001b[0mx\u001b[0m\u001b[1;33m,\u001b[0m \u001b[0my\u001b[0m\u001b[1;33m)\u001b[0m\u001b[1;33m\u001b[0m\u001b[0m\n",
      "\u001b[1;31mTypeError\u001b[0m: 'NoneType' object is not iterable"
     ]
    }
   ],
   "source": [
    "x, y = pyautogui.locateCenterOnScreen('Starticon.png')\n",
    "pyautogui.click(x, y)"
   ]
  },
  {
   "cell_type": "code",
   "execution_count": 53,
   "metadata": {
    "collapsed": true
   },
   "outputs": [],
   "source": [
    "x, y = pyautogui.locateCenterOnScreen('Rotateicon.png')\n",
    "for i in range(5):\n",
    "    pyautogui.click(x, y)"
   ]
  },
  {
   "cell_type": "code",
   "execution_count": 5,
   "metadata": {},
   "outputs": [
    {
     "data": {
      "text/plain": [
       "array([ 25,  39,  53,  68,  82,  97, 111, 126, 140, 155, 169, 183, 198,\n",
       "       212, 227, 241, 256, 270, 285], dtype=uint16)"
      ]
     },
     "execution_count": 5,
     "metadata": {},
     "output_type": "execute_result"
    }
   ],
   "source": [
    "np.linspace(25, 285, 19).astype(np.uint16)"
   ]
  },
  {
   "cell_type": "code",
   "execution_count": 8,
   "metadata": {
    "collapsed": true
   },
   "outputs": [],
   "source": [
    "pyautogui.click(32.33232323232,3.5)"
   ]
  },
  {
   "cell_type": "code",
   "execution_count": null,
   "metadata": {
    "collapsed": true
   },
   "outputs": [],
   "source": []
  }
 ],
 "metadata": {
  "kernelspec": {
   "display_name": "Python 3",
   "language": "python",
   "name": "python3"
  },
  "language_info": {
   "codemirror_mode": {
    "name": "ipython",
    "version": 3
   },
   "file_extension": ".py",
   "mimetype": "text/x-python",
   "name": "python",
   "nbconvert_exporter": "python",
   "pygments_lexer": "ipython3",
   "version": "3.6.3"
  }
 },
 "nbformat": 4,
 "nbformat_minor": 2
}
